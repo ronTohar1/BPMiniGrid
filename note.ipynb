{
 "cells": [
  {
   "cell_type": "code",
   "execution_count": null,
   "metadata": {},
   "outputs": [],
   "source": [
    "import gymnasium as gym\n",
    "from matplotlib import pyplot as plt\n",
    "from minigrid.wrappers import SymbolicObsWrapper, FullyObsWrapper\n",
    "from minigrid.core.constants import OBJECT_TO_IDX\n",
    "import numpy as np\n",
    "from minigrid.manual_control import ManualControl\n",
    "from minigrid_wrappers import ObjectsLocationWrapper, OnlyImageObservation, CountBackAndForthTurns\n",
    "from bp_gym import BPGymEnv\n",
    "from create_environment import create_environment"
   ]
  },
  {
   "cell_type": "code",
   "execution_count": null,
   "metadata": {},
   "outputs": [],
   "source": [
    "env = create_environment(\"MiniGrid-DoorKey-6x6-v0\", render_mode=\"human\", add_strategies=False)\n",
    "env2 = create_environment(\"MiniGrid-DoorKey-6x6-v0\", render_mode=\"human\", add_strategies=False, partially_observable=True)"
   ]
  },
  {
   "cell_type": "code",
   "execution_count": null,
   "metadata": {},
   "outputs": [],
   "source": [
    "obs,info = env.reset()\n",
    "obs2,info2 = env2.reset()\n",
    "print(obs.shape)\n",
    "print(obs2.shape)"
   ]
  },
  {
   "cell_type": "code",
   "execution_count": null,
   "metadata": {},
   "outputs": [],
   "source": []
  }
 ],
 "metadata": {
  "kernelspec": {
   "display_name": ".venv",
   "language": "python",
   "name": "python3"
  },
  "language_info": {
   "codemirror_mode": {
    "name": "ipython",
    "version": 3
   },
   "file_extension": ".py",
   "mimetype": "text/x-python",
   "name": "python",
   "nbconvert_exporter": "python",
   "pygments_lexer": "ipython3",
   "version": "3.11.5"
  },
  "orig_nbformat": 4
 },
 "nbformat": 4,
 "nbformat_minor": 2
}
