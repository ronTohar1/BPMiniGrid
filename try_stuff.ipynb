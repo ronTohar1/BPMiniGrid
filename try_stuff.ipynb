{
 "cells": [
  {
   "cell_type": "code",
   "execution_count": 12,
   "metadata": {},
   "outputs": [],
   "source": [
    "import tensorflow as tf\n",
    "import keras\n",
    "from keras import layers\n",
    "from keras.\n",
    "import visualkeras\n",
    "from PIL import ImageFont\n"
   ]
  },
  {
   "cell_type": "code",
   "execution_count": 25,
   "metadata": {},
   "outputs": [
    {
     "name": "stdout",
     "output_type": "stream",
     "text": [
      "1/1 [==============================] - 1s 773ms/step\n"
     ]
    }
   ],
   "source": [
    "model = keras.models.Sequential(\n",
    "    [\n",
    "        layers.Conv2D(16, 2, 1, activation='relu'),\n",
    "        layers.Conv2D(32, 2, 1, activation='relu'),\n",
    "        layers.Conv2D(16, 2, 1, activation='relu'),\n",
    "        layers.Conv2D(16, 2, 1, activation='relu'),\n",
    "        layers.Flatten(),\n",
    "        layers.Dense(512,activation='relu'),\n",
    "        \n",
    "    ]\n",
    ")\n",
    "\n",
    "x = tf.ones((8,8,3))\n",
    "# y = model(x)\n",
    "y = model.predict(tf.expand_dims(x, axis=0))\n"
   ]
  },
  {
   "cell_type": "code",
   "execution_count": 27,
   "metadata": {},
   "outputs": [
    {
     "ename": "ValueError",
     "evalue": "Could not save to JPEG for display",
     "output_type": "error",
     "traceback": [
      "\u001b[1;31m---------------------------------------------------------------------------\u001b[0m",
      "\u001b[1;31mKeyError\u001b[0m                                  Traceback (most recent call last)",
      "File \u001b[1;32mc:\\Users\\Ron Tohar\\Desktop\\Teza\\BPMiniGrid\\BPMiniGrid\\.venv\\Lib\\site-packages\\PIL\\JpegImagePlugin.py:639\u001b[0m, in \u001b[0;36m_save\u001b[1;34m(im, fp, filename)\u001b[0m\n\u001b[0;32m    638\u001b[0m \u001b[39mtry\u001b[39;00m:\n\u001b[1;32m--> 639\u001b[0m     rawmode \u001b[39m=\u001b[39m RAWMODE[im\u001b[39m.\u001b[39;49mmode]\n\u001b[0;32m    640\u001b[0m \u001b[39mexcept\u001b[39;00m \u001b[39mKeyError\u001b[39;00m \u001b[39mas\u001b[39;00m e:\n",
      "\u001b[1;31mKeyError\u001b[0m: 'RGBA'",
      "\nThe above exception was the direct cause of the following exception:\n",
      "\u001b[1;31mOSError\u001b[0m                                   Traceback (most recent call last)",
      "File \u001b[1;32mc:\\Users\\Ron Tohar\\Desktop\\Teza\\BPMiniGrid\\BPMiniGrid\\.venv\\Lib\\site-packages\\PIL\\Image.py:643\u001b[0m, in \u001b[0;36mImage._repr_image\u001b[1;34m(self, image_format, **kwargs)\u001b[0m\n\u001b[0;32m    642\u001b[0m \u001b[39mtry\u001b[39;00m:\n\u001b[1;32m--> 643\u001b[0m     \u001b[39mself\u001b[39;49m\u001b[39m.\u001b[39;49msave(b, image_format, \u001b[39m*\u001b[39;49m\u001b[39m*\u001b[39;49mkwargs)\n\u001b[0;32m    644\u001b[0m \u001b[39mexcept\u001b[39;00m \u001b[39mException\u001b[39;00m \u001b[39mas\u001b[39;00m e:\n",
      "File \u001b[1;32mc:\\Users\\Ron Tohar\\Desktop\\Teza\\BPMiniGrid\\BPMiniGrid\\.venv\\Lib\\site-packages\\PIL\\Image.py:2413\u001b[0m, in \u001b[0;36mImage.save\u001b[1;34m(self, fp, format, **params)\u001b[0m\n\u001b[0;32m   2412\u001b[0m \u001b[39mtry\u001b[39;00m:\n\u001b[1;32m-> 2413\u001b[0m     save_handler(\u001b[39mself\u001b[39;49m, fp, filename)\n\u001b[0;32m   2414\u001b[0m \u001b[39mexcept\u001b[39;00m \u001b[39mException\u001b[39;00m:\n",
      "File \u001b[1;32mc:\\Users\\Ron Tohar\\Desktop\\Teza\\BPMiniGrid\\BPMiniGrid\\.venv\\Lib\\site-packages\\PIL\\JpegImagePlugin.py:642\u001b[0m, in \u001b[0;36m_save\u001b[1;34m(im, fp, filename)\u001b[0m\n\u001b[0;32m    641\u001b[0m     msg \u001b[39m=\u001b[39m \u001b[39mf\u001b[39m\u001b[39m\"\u001b[39m\u001b[39mcannot write mode \u001b[39m\u001b[39m{\u001b[39;00mim\u001b[39m.\u001b[39mmode\u001b[39m}\u001b[39;00m\u001b[39m as JPEG\u001b[39m\u001b[39m\"\u001b[39m\n\u001b[1;32m--> 642\u001b[0m     \u001b[39mraise\u001b[39;00m \u001b[39mOSError\u001b[39;00m(msg) \u001b[39mfrom\u001b[39;00m \u001b[39me\u001b[39;00m\n\u001b[0;32m    644\u001b[0m info \u001b[39m=\u001b[39m im\u001b[39m.\u001b[39mencoderinfo\n",
      "\u001b[1;31mOSError\u001b[0m: cannot write mode RGBA as JPEG",
      "\nThe above exception was the direct cause of the following exception:\n",
      "\u001b[1;31mValueError\u001b[0m                                Traceback (most recent call last)",
      "File \u001b[1;32mc:\\Users\\Ron Tohar\\Desktop\\Teza\\BPMiniGrid\\BPMiniGrid\\.venv\\Lib\\site-packages\\IPython\\core\\formatters.py:344\u001b[0m, in \u001b[0;36mBaseFormatter.__call__\u001b[1;34m(self, obj)\u001b[0m\n\u001b[0;32m    342\u001b[0m     method \u001b[39m=\u001b[39m get_real_method(obj, \u001b[39mself\u001b[39m\u001b[39m.\u001b[39mprint_method)\n\u001b[0;32m    343\u001b[0m     \u001b[39mif\u001b[39;00m method \u001b[39mis\u001b[39;00m \u001b[39mnot\u001b[39;00m \u001b[39mNone\u001b[39;00m:\n\u001b[1;32m--> 344\u001b[0m         \u001b[39mreturn\u001b[39;00m method()\n\u001b[0;32m    345\u001b[0m     \u001b[39mreturn\u001b[39;00m \u001b[39mNone\u001b[39;00m\n\u001b[0;32m    346\u001b[0m \u001b[39melse\u001b[39;00m:\n",
      "File \u001b[1;32mc:\\Users\\Ron Tohar\\Desktop\\Teza\\BPMiniGrid\\BPMiniGrid\\.venv\\Lib\\site-packages\\PIL\\Image.py:661\u001b[0m, in \u001b[0;36mImage._repr_jpeg_\u001b[1;34m(self)\u001b[0m\n\u001b[0;32m    656\u001b[0m \u001b[39mdef\u001b[39;00m \u001b[39m_repr_jpeg_\u001b[39m(\u001b[39mself\u001b[39m):\n\u001b[0;32m    657\u001b[0m \u001b[39m    \u001b[39m\u001b[39m\"\"\"iPython display hook support for JPEG format.\u001b[39;00m\n\u001b[0;32m    658\u001b[0m \n\u001b[0;32m    659\u001b[0m \u001b[39m    :returns: JPEG version of the image as bytes\u001b[39;00m\n\u001b[0;32m    660\u001b[0m \u001b[39m    \"\"\"\u001b[39;00m\n\u001b[1;32m--> 661\u001b[0m     \u001b[39mreturn\u001b[39;00m \u001b[39mself\u001b[39;49m\u001b[39m.\u001b[39;49m_repr_image(\u001b[39m\"\u001b[39;49m\u001b[39mJPEG\u001b[39;49m\u001b[39m\"\u001b[39;49m)\n",
      "File \u001b[1;32mc:\\Users\\Ron Tohar\\Desktop\\Teza\\BPMiniGrid\\BPMiniGrid\\.venv\\Lib\\site-packages\\PIL\\Image.py:646\u001b[0m, in \u001b[0;36mImage._repr_image\u001b[1;34m(self, image_format, **kwargs)\u001b[0m\n\u001b[0;32m    644\u001b[0m \u001b[39mexcept\u001b[39;00m \u001b[39mException\u001b[39;00m \u001b[39mas\u001b[39;00m e:\n\u001b[0;32m    645\u001b[0m     msg \u001b[39m=\u001b[39m \u001b[39mf\u001b[39m\u001b[39m\"\u001b[39m\u001b[39mCould not save to \u001b[39m\u001b[39m{\u001b[39;00mimage_format\u001b[39m}\u001b[39;00m\u001b[39m for display\u001b[39m\u001b[39m\"\u001b[39m\n\u001b[1;32m--> 646\u001b[0m     \u001b[39mraise\u001b[39;00m \u001b[39mValueError\u001b[39;00m(msg) \u001b[39mfrom\u001b[39;00m \u001b[39me\u001b[39;00m\n\u001b[0;32m    647\u001b[0m \u001b[39mreturn\u001b[39;00m b\u001b[39m.\u001b[39mgetvalue()\n",
      "\u001b[1;31mValueError\u001b[0m: Could not save to JPEG for display"
     ]
    },
    {
     "data": {
      "image/png": "[encoded data removed]",
      "text/plain": [
       "<PIL.Image.Image image mode=RGBA size=235x38>"
      ]
     },
     "execution_count": 27,
     "metadata": {},
     "output_type": "execute_result"
    }
   ],
   "source": [
    "visualkeras.layered_view(model)  # font is optional!"
   ]
  },
  {
   "cell_type": "code",
   "execution_count": null,
   "metadata": {},
   "outputs": [],
   "source": []
  }
 ],
 "metadata": {
  "kernelspec": {
   "display_name": ".venv",
   "language": "python",
   "name": "python3"
  },
  "language_info": {
   "codemirror_mode": {
    "name": "ipython",
    "version": 3
   },
   "file_extension": ".py",
   "mimetype": "text/x-python",
   "name": "python",
   "nbconvert_exporter": "python",
   "pygments_lexer": "ipython3",
   "version": "3.11.5"
  },
  "orig_nbformat": 4
 },
 "nbformat": 4,
 "nbformat_minor": 2
}
